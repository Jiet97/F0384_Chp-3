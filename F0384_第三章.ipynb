{
  "nbformat": 4,
  "nbformat_minor": 0,
  "metadata": {
    "colab": {
      "name": "F0384_第三章.ipynb",
      "provenance": [],
      "collapsed_sections": [],
      "toc_visible": true,
      "authorship_tag": "ABX9TyNkizWmpH6vlSvsfOJH5hbI",
      "include_colab_link": true
    },
    "kernelspec": {
      "name": "python3",
      "display_name": "Python 3"
    },
    "accelerator": "GPU"
  },
  "cells": [
    {
      "cell_type": "markdown",
      "metadata": {
        "id": "view-in-github",
        "colab_type": "text"
      },
      "source": [
        "<a href=\"https://colab.research.google.com/github/Jiet97/codeql-uboot/blob/master/F0384_%E7%AC%AC%E4%B8%89%E7%AB%A0.ipynb\" target=\"_parent\"><img src=\"https://colab.research.google.com/assets/colab-badge.svg\" alt=\"Open In Colab\"/></a>"
      ]
    },
    {
      "cell_type": "markdown",
      "metadata": {
        "id": "zmxNyE4E7JOv"
      },
      "source": [
        "## 程式 3.1"
      ]
    },
    {
      "cell_type": "code",
      "metadata": {
        "id": "qY8XBySI7BD_"
      },
      "source": [
        "# 下載 Gridworld.py 及 GridBoard.py (-q 是設為安靜模式)\n",
        "!wget -q https://github.com/DeepReinforcementLearning/DeepReinforcementLearningInAction/raw/master/Errata/Gridworld.py\n",
        "!wget -q https://github.com/DeepReinforcementLearning/DeepReinforcementLearningInAction/raw/master/Errata/GridBoard.py\n",
        "\n",
        "from Gridworld import Gridworld\n",
        "game = Gridworld(size=4, mode='static')"
      ],
      "execution_count": 135,
      "outputs": []
    },
    {
      "cell_type": "markdown",
      "metadata": {
        "id": "zw1S5VTS7UYL"
      },
      "source": [
        "## 程式 3.2"
      ]
    },
    {
      "cell_type": "code",
      "metadata": {
        "id": "dCakeOE57Nim"
      },
      "source": [
        "import numpy as np\n",
        "import torch\n",
        "from Gridworld import Gridworld\n",
        "from IPython.display import clear_output\n",
        "import random\n",
        "from matplotlib import pylab as plt\n",
        "\n",
        "L1 = 64 #{4} 各層的寬度\n",
        "L2 = 150\n",
        "L3 = 100\n",
        "L4 = 4\n",
        "\n",
        "model = torch.nn.Sequential(\n",
        "    torch.nn.Linear(L1, L2), #第一隱藏層\n",
        "    torch.nn.ReLU(),\n",
        "    torch.nn.Linear(L2, L3), #第二隱藏層\n",
        "    torch.nn.ReLU(),\n",
        "    torch.nn.Linear(L3,L4) #輸出層\n",
        ")\n",
        "loss_fn = torch.nn.MSELoss()\n",
        "learning_rate = 1e-3  #超參數『α 』\n",
        "optimizer = torch.optim.Adam(model.parameters(), lr=learning_rate) #model.parameters()會傳回所有要優化的權重參數\n",
        "\n",
        "gamma = 0.9\n",
        "epsilon = 1.0"
      ],
      "execution_count": 136,
      "outputs": []
    },
    {
      "cell_type": "markdown",
      "metadata": {
        "id": "m5CbgQa9722M"
      },
      "source": [
        "###將動作的字母與數字對應起來"
      ]
    },
    {
      "cell_type": "code",
      "metadata": {
        "id": "JFCNox0t70pm"
      },
      "source": [
        "action_set = {\n",
        "\t0: 'u',\n",
        "\t1: 'd',\n",
        "\t2: 'l',\n",
        "\t3: 'r'\n",
        "}"
      ],
      "execution_count": 137,
      "outputs": []
    },
    {
      "cell_type": "markdown",
      "metadata": {
        "id": "Wyf3WzHN7cTl"
      },
      "source": [
        "## 程式 3.3(static mode)"
      ]
    },
    {
      "cell_type": "code",
      "metadata": {
        "id": "ON1ki8_u7evr",
        "outputId": "bb600c41-a037-40fe-89c9-e07ef733ce54",
        "colab": {
          "base_uri": "https://localhost:8080/",
          "height": 459
        }
      },
      "source": [
        "epochs = 1000\n",
        "losses = [] #使用串列將每一次的loss記錄下來，方便之後將loss的變化趨勢畫成圖\n",
        "for i in range(epochs):\n",
        "    game = Gridworld(size=4, mode='static')\n",
        "    state_ = game.board.render_np().reshape(1,64) + np.random.rand(1,64)/10.0\n",
        "\t#將3維陣列（4x4x4）轉換成向量（長度為64），並將每個值都加上一些雜訊（很小的數值）。編註：加上雜訊的原因會在稍後說明\n",
        "    state1 = torch.from_numpy(state_).float()\n",
        "#將numpy陣列轉換成PyTorch張量，並存於PyTorch變數（state1）中\t\n",
        "    status = 1 #用來追蹤遊戲是否仍在繼續（『1』代表仍在繼續）\n",
        "    while(status == 1):\n",
        "        qval = model(state1) #執行Q網路，取得所有動作的預測Q值\n",
        "        qval_ = qval.data.numpy() #將qval轉換成numpy陣列\n",
        "        if (random.random() < epsilon): \n",
        "            action_ = np.random.randint(0,4)\n",
        "        else:\n",
        "            action_ = np.argmax(qval_)        \n",
        "        action = action_set[action_] #將代表某動作的數字對應到makeMove()的英文字母\n",
        "        game.makeMove(action) #執行之前ε—貪婪策略所選出的動作 \n",
        "        state2_ = game.board.render_np().reshape(1,64) + np.random.rand(1,64)/10.0\n",
        "        state2 = torch.from_numpy(state2_).float() #動作執行完畢，取得遊戲的新狀態並轉換成張量\n",
        "        reward = game.reward()\n",
        "        with torch.no_grad(): #此函式的作用會在稍後說明\n",
        "            newQ = model(state2.reshape(1,64))\n",
        "        maxQ = torch.max(newQ) #將新狀態下所輸出的Q值向量中的最大值給記錄下來\n",
        "        if reward == -1:\n",
        "            Y = reward + (gamma * maxQ)  #計算訓練所用的目標Q值\n",
        "        else:\n",
        "            Y = reward\n",
        "        Y = torch.Tensor([Y]).detach() #此函式的作用會在稍後說明\n",
        "        X = qval.squeeze()[action_] #將演算法對執行的動作所預測的Q值存進X，並使用squeeze()將qval中維度為1的階去掉 (shape [1, 4] 會變成 [4])\n",
        "        loss = loss_fn(X, Y) #計算目標Q值與預測Q值之間的誤差\n",
        "        if i%100 == 0:\n",
        "          print(i, loss.item())\n",
        "          clear_output(wait=True)\n",
        "        optimizer.zero_grad()\n",
        "        loss.backward()\n",
        "        optimizer.step()\n",
        "        state1 = state2\n",
        "        if abs(reward) == 10:      \n",
        "\t   \t      status = 0 # 若 reward 不等於 –1，代表遊戲已經分出勝負，所以設status為0  \n",
        "    losses.append(loss.item())\n",
        "    if epsilon > 0.1:\n",
        "        epsilon -= (1/epochs) #讓ε的值隨著訓練的進行而慢慢下降，直到0.1（還是要保留探索的動作）\n",
        "plt.figure(figsize=(10,7))\n",
        "plt.plot(losses)\n",
        "plt.xlabel(\"Epochs\",fontsize=11)\n",
        "plt.ylabel(\"Loss\",fontsize=11)"
      ],
      "execution_count": 138,
      "outputs": [
        {
          "output_type": "execute_result",
          "data": {
            "text/plain": [
              "Text(0, 0.5, 'Loss')"
            ]
          },
          "metadata": {
            "tags": []
          },
          "execution_count": 138
        },
        {
          "output_type": "display_data",
          "data": {
            "image/png": "[encoded data removed]",
            "text/plain": [
              "<Figure size 720x504 with 1 Axes>"
            ]
          },
          "metadata": {
            "tags": [],
            "needs_background": "light"
          }
        }
      ]
    },
    {
      "cell_type": "markdown",
      "metadata": {
        "id": "tzHFGc2C8dgq"
      },
      "source": [
        "### 測試模型（static mode)"
      ]
    },
    {
      "cell_type": "code",
      "metadata": {
        "id": "GvFLVpKv8luG",
        "outputId": "695bfba5-7e0a-41a7-aac1-40aab867d1b8",
        "colab": {
          "base_uri": "https://localhost:8080/",
          "height": 731
        }
      },
      "source": [
        "test_model(model, 'static')"
      ],
      "execution_count": 139,
      "outputs": [
        {
          "output_type": "stream",
          "text": [
            "Initial State:\n",
            "[['+' '-' ' ' 'P']\n",
            " [' ' 'W' ' ' ' ']\n",
            " [' ' ' ' ' ' ' ']\n",
            " [' ' ' ' ' ' ' ']]\n",
            "Move #: 0; Taking action: d\n",
            "[['+' '-' ' ' ' ']\n",
            " [' ' 'W' ' ' 'P']\n",
            " [' ' ' ' ' ' ' ']\n",
            " [' ' ' ' ' ' ' ']]\n",
            "Move #: 1; Taking action: d\n",
            "[['+' '-' ' ' ' ']\n",
            " [' ' 'W' ' ' ' ']\n",
            " [' ' ' ' ' ' 'P']\n",
            " [' ' ' ' ' ' ' ']]\n",
            "Move #: 2; Taking action: l\n",
            "[['+' '-' ' ' ' ']\n",
            " [' ' 'W' ' ' ' ']\n",
            " [' ' ' ' 'P' ' ']\n",
            " [' ' ' ' ' ' ' ']]\n",
            "Move #: 3; Taking action: l\n",
            "[['+' '-' ' ' ' ']\n",
            " [' ' 'W' ' ' ' ']\n",
            " [' ' 'P' ' ' ' ']\n",
            " [' ' ' ' ' ' ' ']]\n",
            "Move #: 4; Taking action: l\n",
            "[['+' '-' ' ' ' ']\n",
            " [' ' 'W' ' ' ' ']\n",
            " ['P' ' ' ' ' ' ']\n",
            " [' ' ' ' ' ' ' ']]\n",
            "Move #: 5; Taking action: u\n",
            "[['+' '-' ' ' ' ']\n",
            " ['P' 'W' ' ' ' ']\n",
            " [' ' ' ' ' ' ' ']\n",
            " [' ' ' ' ' ' ' ']]\n",
            "Move #: 6; Taking action: u\n",
            "[['+' '-' ' ' ' ']\n",
            " [' ' 'W' ' ' ' ']\n",
            " [' ' ' ' ' ' ' ']\n",
            " [' ' ' ' ' ' ' ']]\n",
            "Game won! Reward: 10\n"
          ],
          "name": "stdout"
        },
        {
          "output_type": "execute_result",
          "data": {
            "text/plain": [
              "True"
            ]
          },
          "metadata": {
            "tags": []
          },
          "execution_count": 139
        }
      ]
    },
    {
      "cell_type": "markdown",
      "metadata": {
        "id": "WiDlMHL-_X3_"
      },
      "source": [
        "## 程式 3.3(player mode)"
      ]
    },
    {
      "cell_type": "code",
      "metadata": {
        "id": "txz_tFa1_eQj",
        "outputId": "3bb9d944-86a7-4f80-e2e8-13fe97912e52",
        "colab": {
          "base_uri": "https://localhost:8080/",
          "height": 459
        }
      },
      "source": [
        "epochs = 1000\n",
        "losses = [] #使用串列將每一次的loss記錄下來，方便之後將loss的變化趨勢畫成圖\n",
        "for i in range(epochs):\n",
        "    game = Gridworld(size=4, mode='player')\n",
        "    state_ = game.board.render_np().reshape(1,64) + np.random.rand(1,64)/10.0\n",
        "\t#將3維陣列（4x4x4）轉換成向量（長度為64），並將每個值都加上一些雜訊（很小的數值）。編註：加上雜訊的原因會在稍後說明\n",
        "    state1 = torch.from_numpy(state_).float()\n",
        "#將numpy陣列轉換成PyTorch張量，並存於PyTorch變數（state1）中\t\n",
        "    status = 1 #用來追蹤遊戲是否仍在繼續（『1』代表仍在繼續）\n",
        "    while(status == 1):\n",
        "        qval = model(state1) #執行Q網路，取得所有動作的預測Q值\n",
        "        qval_ = qval.data.numpy() #將qval轉換成numpy陣列\n",
        "        if (random.random() < epsilon): \n",
        "            action_ = np.random.randint(0,4)\n",
        "        else:\n",
        "            action_ = np.argmax(qval_)        \n",
        "        action = action_set[action_] #將代表某動作的數字對應到makeMove()的英文字母\n",
        "        game.makeMove(action) #執行之前ε—貪婪策略所選出的動作 \n",
        "        state2_ = game.board.render_np().reshape(1,64) + np.random.rand(1,64)/10.0\n",
        "        state2 = torch.from_numpy(state2_).float() #動作執行完畢，取得遊戲的新狀態並轉換成張量\n",
        "        reward = game.reward()\n",
        "        with torch.no_grad(): #此函式的作用會在稍後說明\n",
        "            newQ = model(state2.reshape(1,64))\n",
        "        maxQ = torch.max(newQ) #將新狀態下所輸出的Q值向量中的最大值給記錄下來\n",
        "        if reward == -1:\n",
        "            Y = reward + (gamma * maxQ)  #計算訓練所用的目標Q值\n",
        "        else:\n",
        "            Y = reward\n",
        "        Y = torch.Tensor([Y]).detach() #此函式的作用會在稍後說明\n",
        "        X = qval.squeeze()[action_] #將演算法對執行的動作所預測的Q值存進X，並使用squeeze()將qval中維度為1的階去掉 (shape [1, 4] 會變成 [4])\n",
        "        loss = loss_fn(X, Y) #計算目標Q值與預測Q值之間的誤差\n",
        "        if i%100 == 0:\n",
        "          print(i, loss.item())\n",
        "          clear_output(wait=True)\n",
        "        optimizer.zero_grad()\n",
        "        loss.backward()\n",
        "        optimizer.step()\n",
        "        state1 = state2\n",
        "        if abs(reward) == 10:      \n",
        "\t   \t      status = 0 # 若 reward 不等於 –1，代表遊戲已經分出勝負，所以設status為0  \n",
        "    losses.append(loss.item())\n",
        "    if epsilon > 0.1:\n",
        "        epsilon -= (1/epochs) #讓ε的值隨著訓練的進行而慢慢下降，直到0.1（還是要保留探索的動作）\n",
        "plt.figure(figsize=(10,7))\n",
        "plt.plot(losses)\n",
        "plt.xlabel(\"Epochs\",fontsize=11)\n",
        "plt.ylabel(\"Loss\",fontsize=11)"
      ],
      "execution_count": 140,
      "outputs": [
        {
          "output_type": "execute_result",
          "data": {
            "text/plain": [
              "Text(0, 0.5, 'Loss')"
            ]
          },
          "metadata": {
            "tags": []
          },
          "execution_count": 140
        },
        {
          "output_type": "display_data",
          "data": {
            "image/png": "[encoded data removed]",
            "text/plain": [
              "<Figure size 720x504 with 1 Axes>"
            ]
          },
          "metadata": {
            "tags": [],
            "needs_background": "light"
          }
        }
      ]
    },
    {
      "cell_type": "markdown",
      "metadata": {
        "id": "EdofFy_I_acj"
      },
      "source": [
        "## 程式 3.3(random mode)"
      ]
    },
    {
      "cell_type": "code",
      "metadata": {
        "id": "ljDa48lY_i06",
        "outputId": "a9f4b25d-2cf5-4cb7-acee-477556ae3e9a",
        "colab": {
          "base_uri": "https://localhost:8080/",
          "height": 459
        }
      },
      "source": [
        "epochs = 1000\n",
        "losses = [] #使用串列將每一次的loss記錄下來，方便之後將loss的變化趨勢畫成圖\n",
        "for i in range(epochs):\n",
        "    game = Gridworld(size=4, mode='random')\n",
        "    state_ = game.board.render_np().reshape(1,64) + np.random.rand(1,64)/10.0\n",
        "\t#將3維陣列（4x4x4）轉換成向量（長度為64），並將每個值都加上一些雜訊（很小的數值）。編註：加上雜訊的原因會在稍後說明\n",
        "    state1 = torch.from_numpy(state_).float()\n",
        "#將numpy陣列轉換成PyTorch張量，並存於PyTorch變數（state1）中\t\n",
        "    status = 1 #用來追蹤遊戲是否仍在繼續（『1』代表仍在繼續）\n",
        "    while(status == 1):\n",
        "        qval = model(state1) #執行Q網路，取得所有動作的預測Q值\n",
        "        qval_ = qval.data.numpy() #將qval轉換成numpy陣列\n",
        "        if (random.random() < epsilon): \n",
        "            action_ = np.random.randint(0,4)\n",
        "        else:\n",
        "            action_ = np.argmax(qval_)        \n",
        "        action = action_set[action_] #將代表某動作的數字對應到makeMove()的英文字母\n",
        "        game.makeMove(action) #執行之前ε—貪婪策略所選出的動作 \n",
        "        state2_ = game.board.render_np().reshape(1,64) + np.random.rand(1,64)/10.0\n",
        "        state2 = torch.from_numpy(state2_).float() #動作執行完畢，取得遊戲的新狀態並轉換成張量\n",
        "        reward = game.reward()\n",
        "        with torch.no_grad(): #此函式的作用會在稍後說明\n",
        "            newQ = model(state2.reshape(1,64))\n",
        "        maxQ = torch.max(newQ) #將新狀態下所輸出的Q值向量中的最大值給記錄下來\n",
        "        if reward == -1:\n",
        "            Y = reward + (gamma * maxQ)  #計算訓練所用的目標Q值\n",
        "        else:\n",
        "            Y = reward\n",
        "        Y = torch.Tensor([Y]).detach() #此函式的作用會在稍後說明\n",
        "        X = qval.squeeze()[action_] #將演算法對執行的動作所預測的Q值存進X，並使用squeeze()將qval中維度為1的階去掉 (shape [1, 4] 會變成 [4])\n",
        "        loss = loss_fn(X, Y) #計算目標Q值與預測Q值之間的誤差\n",
        "        if i%100 == 0:\n",
        "          print(i, loss.item())\n",
        "          clear_output(wait=True)\n",
        "        optimizer.zero_grad()\n",
        "        loss.backward()\n",
        "        optimizer.step()\n",
        "        state1 = state2\n",
        "        if abs(reward) == 10:      \n",
        "\t   \t      status = 0 # 若 reward 不等於 –1，代表遊戲已經分出勝負，所以設status為0  \n",
        "    losses.append(loss.item())\n",
        "    if epsilon > 0.1:\n",
        "        epsilon -= (1/epochs) #讓ε的值隨著訓練的進行而慢慢下降，直到0.1（還是要保留探索的動作）\n",
        "plt.figure(figsize=(10,7))\n",
        "plt.plot(losses)\n",
        "plt.xlabel(\"Epochs\",fontsize=11)\n",
        "plt.ylabel(\"Loss\",fontsize=11)"
      ],
      "execution_count": 141,
      "outputs": [
        {
          "output_type": "execute_result",
          "data": {
            "text/plain": [
              "Text(0, 0.5, 'Loss')"
            ]
          },
          "metadata": {
            "tags": []
          },
          "execution_count": 141
        },
        {
          "output_type": "display_data",
          "data": {
            "image/png": "[encoded data removed]",
            "text/plain": [
              "<Figure size 720x504 with 1 Axes>"
            ]
          },
          "metadata": {
            "tags": [],
            "needs_background": "light"
          }
        }
      ]
    },
    {
      "cell_type": "markdown",
      "metadata": {
        "id": "eeKjgl_F8sCF"
      },
      "source": [
        "### 測試模型 (random mode）"
      ]
    },
    {
      "cell_type": "code",
      "metadata": {
        "id": "V_ZmSKnk80EE",
        "outputId": "31572f7e-f7ba-4411-9b67-02db0508f707",
        "colab": {
          "base_uri": "https://localhost:8080/",
          "height": 476
        }
      },
      "source": [
        "test_model(model, 'random')"
      ],
      "execution_count": 142,
      "outputs": [
        {
          "output_type": "stream",
          "text": [
            "Initial State:\n",
            "[[' ' '+' 'W' '-']\n",
            " [' ' ' ' ' ' ' ']\n",
            " [' ' ' ' ' ' 'P']\n",
            " [' ' ' ' ' ' ' ']]\n",
            "Move #: 0; Taking action: l\n",
            "[[' ' '+' 'W' '-']\n",
            " [' ' ' ' ' ' ' ']\n",
            " [' ' ' ' 'P' ' ']\n",
            " [' ' ' ' ' ' ' ']]\n",
            "Move #: 1; Taking action: u\n",
            "[[' ' '+' 'W' '-']\n",
            " [' ' ' ' 'P' ' ']\n",
            " [' ' ' ' ' ' ' ']\n",
            " [' ' ' ' ' ' ' ']]\n",
            "Move #: 2; Taking action: l\n",
            "[[' ' '+' 'W' '-']\n",
            " [' ' 'P' ' ' ' ']\n",
            " [' ' ' ' ' ' ' ']\n",
            " [' ' ' ' ' ' ' ']]\n",
            "Move #: 3; Taking action: u\n",
            "[[' ' '+' 'W' '-']\n",
            " [' ' ' ' ' ' ' ']\n",
            " [' ' ' ' ' ' ' ']\n",
            " [' ' ' ' ' ' ' ']]\n",
            "Game won! Reward: 10\n"
          ],
          "name": "stdout"
        },
        {
          "output_type": "execute_result",
          "data": {
            "text/plain": [
              "True"
            ]
          },
          "metadata": {
            "tags": []
          },
          "execution_count": 142
        }
      ]
    },
    {
      "cell_type": "markdown",
      "metadata": {
        "id": "lBCx5EBK8Rl_"
      },
      "source": [
        "## 程式 3.4"
      ]
    },
    {
      "cell_type": "code",
      "metadata": {
        "id": "vH3MSgju8V3O"
      },
      "source": [
        "def test_model(model, mode='static', display=True):\n",
        "    i = 0\n",
        "    test_game = Gridworld(mode=mode)\n",
        "    state_ = test_game.board.render_np().reshape(1,64) + np.random.rand(1,64)/10.0\n",
        "    state = torch.from_numpy(state_).float()\n",
        "    if display:\n",
        "        print(\"Initial State:\")\n",
        "        print(test_game.display())\n",
        "    status = 1\n",
        "    while(status == 1): #A\n",
        "        qval = model(state)\n",
        "        qval_ = qval.data.numpy()\n",
        "        action_ = np.argmax(qval_) #B\n",
        "        action = action_set[action_]\n",
        "        if display:\n",
        "            print('Move #: %s; Taking action: %s' % (i, action))\n",
        "        test_game.makeMove(action)\n",
        "        state_ = test_game.board.render_np().reshape(1,64) + np.random.rand(1,64)/10.0\n",
        "        state = torch.from_numpy(state_).float()\n",
        "        if display:\n",
        "            print(test_game.display())\n",
        "        reward = test_game.reward()\n",
        "        if reward != -1:\n",
        "            if reward > 0:\n",
        "                status = 2\n",
        "                if display:\n",
        "                    print(\"Game won! Reward: %s\" % (reward,))\n",
        "            else:\n",
        "                status = 0\n",
        "                if display:\n",
        "                    print(\"Game LOST. Reward: %s\" % (reward,))\n",
        "        i += 1\n",
        "        if (i > 15):\n",
        "            if display:\n",
        "                print(\"Game lost; too many moves.\")\n",
        "            break\n",
        "    \n",
        "    win = True if status == 2 else False\n",
        "    return win"
      ],
      "execution_count": 143,
      "outputs": []
    },
    {
      "cell_type": "markdown",
      "metadata": {
        "id": "mT2g6q1U9a3i"
      },
      "source": [
        "## 重建模型（程式3.2）"
      ]
    },
    {
      "cell_type": "code",
      "metadata": {
        "id": "1ETE2OGN9iuP"
      },
      "source": [
        "import numpy as np\n",
        "import torch\n",
        "from Gridworld import Gridworld\n",
        "from IPython.display import clear_output\n",
        "import random\n",
        "from matplotlib import pylab as plt\n",
        "\n",
        "L1 = 64 #{4} 各層的寬度\n",
        "L2 = 150\n",
        "L3 = 100\n",
        "L4 = 4\n",
        "\n",
        "model = torch.nn.Sequential(\n",
        "    torch.nn.Linear(L1, L2), #第一隱藏層\n",
        "    torch.nn.ReLU(),\n",
        "    torch.nn.Linear(L2, L3), #第二隱藏層\n",
        "    torch.nn.ReLU(),\n",
        "    torch.nn.Linear(L3,L4) #輸出層\n",
        ")\n",
        "loss_fn = torch.nn.MSELoss()\n",
        "learning_rate = 1e-3  #超參數『α』\n",
        "optimizer = torch.optim.Adam(model.parameters(), lr=learning_rate) #model.parameters()會傳回所有要優化的權重參數\n",
        "\n",
        "gamma = 0.9\n",
        "epsilon = 1.0"
      ],
      "execution_count": 144,
      "outputs": []
    },
    {
      "cell_type": "markdown",
      "metadata": {
        "id": "7HjNKArD88bx"
      },
      "source": [
        "## 程式 3.5"
      ]
    },
    {
      "cell_type": "code",
      "metadata": {
        "id": "PUt8NSvH9CbS",
        "outputId": "ac631b83-f707-4754-f697-8b18413328a0",
        "colab": {
          "base_uri": "https://localhost:8080/",
          "height": 459
        }
      },
      "source": [
        "from collections import deque\n",
        "epochs = 5000\n",
        "losses = []\n",
        "mem_size = 1000 #設定記憶串列的大小\n",
        "batch_size = 200 #設定單一小批次（mini_batch）的大小\n",
        "replay = deque(maxlen=mem_size) #產生一個deque串列來儲存經驗回放的資料\n",
        "max_moves = 50 #設定每場遊戲最多可以走幾步\n",
        "for i in range(epochs):\n",
        "    \n",
        "    game = Gridworld(size=4, mode='random')\n",
        "    state1_ = game.board.render_np().reshape(1,64) + np.random.rand(1,64)/100.0\n",
        "    state1 = torch.from_numpy(state1_).float()\n",
        "    status = 1\n",
        "    mov = 0 #移動的步數\n",
        "    while(status == 1): \n",
        "        mov += 1\n",
        "        qval = model(state1) #輸出各動作的Q值\n",
        "        qval_ = qval.data.numpy()\n",
        "        if (random.random() < epsilon):\n",
        "            action_ = np.random.randint(0,4)\n",
        "        else:\n",
        "            action_ = np.argmax(qval_)    \n",
        "        action = action_set[action_]\n",
        "        game.makeMove(action)\n",
        "        state2_ = game.board.render_np().reshape(1,64) + np.random.rand(1,64)/100.0\n",
        "        state2 = torch.from_numpy(state2_).float()\n",
        "        reward = game.reward()\n",
        "        #reward = -5 if hit_wall else game.reward() #●2.若撞牆回饋-5\n",
        "        done = True if reward != -1 else False #在reward不等於-1時設定done=True，代表遊戲已經結束了（分出勝負時，reward會等於10或-10）\n",
        "        exp = (state1, action_, reward, state2, done) #產生一筆經驗，其中包含當前狀態、動作、新狀態、回饋值及done值\n",
        "        replay.append(exp) #將該經驗加入名為replay的deque串列中\n",
        "        state1 = state2 #產生的新狀態會變成下一次訓練時的輸入狀態          \n",
        "        if len(replay) > batch_size: #當replay的長度大於小批次量（mini-batch size）時，啟動小批次訓練\n",
        "            minibatch = random.sample(replay, batch_size) #隨機選擇replay中的資料來組成子集\n",
        "            state1_batch = torch.cat([s1 for (s1,a,r,s2,d) in minibatch]) #{5}將經驗中的不同元素分別儲存到對應的小批次張量中\n",
        "            action_batch = torch.Tensor([a for (s1,a,r,s2,d) in minibatch])\n",
        "            reward_batch = torch.Tensor([r for (s1,a,r,s2,d) in minibatch])\n",
        "            state2_batch = torch.cat([s2 for (s1,a,r,s2,d) in minibatch]) \n",
        "            done_batch = torch.Tensor([d for (s1,a,r,s2,d) in minibatch])            \n",
        "            Q1 = model(state1_batch) #利用小批次資料中的目前狀態來計算Q值\n",
        "            with torch.no_grad():\n",
        "              Q2 = model(state2_batch) #利用小批次資料中的新狀態來計算Q值，但設定為不需要計算梯度         \n",
        "            Y = reward_batch + gamma * ((1 - done_batch) * torch.max(Q2,dim=1)[0]) #計算我們希望DQN學習的目標Q值\n",
        "            X = Q1.gather(dim=1,index=action_batch.long().unsqueeze(dim=1)).squeeze() #gather()及unsqueeze()函式的用途可參見下面的小編補充框 \n",
        "            loss = loss_fn(X, Y.detach())\n",
        "            if i%100 == 0:\n",
        "              print(i, loss.item())\n",
        "              clear_output(wait=True)\n",
        "            optimizer.zero_grad()\n",
        "            loss.backward()\n",
        "            losses.append(loss.item())\n",
        "            optimizer.step()\n",
        "        if abs(reward) == 10 or mov > max_moves:\n",
        "            status = 0\n",
        "            mov = 0 #若遊戲結束，則重設status和mov變數的值\n",
        "    if epsilon > 0.1:\n",
        "      epsilon -= (1/epochs) #讓ε的值隨著訓練的進行而慢慢下降，直到0.1（還是要保留探索的動作）\n",
        "losses = np.array(losses)\n",
        "plt.figure(figsize=(10,7))\n",
        "plt.plot(losses)\n",
        "plt.xlabel(\"Steps\",fontsize=11)\n",
        "plt.ylabel(\"Loss\",fontsize=11)"
      ],
      "execution_count": 145,
      "outputs": [
        {
          "output_type": "execute_result",
          "data": {
            "text/plain": [
              "Text(0, 0.5, 'Loss')"
            ]
          },
          "metadata": {
            "tags": []
          },
          "execution_count": 145
        },
        {
          "output_type": "display_data",
          "data": {
            "image/png": "[encoded data removed]",
            "text/plain": [
              "<Figure size 720x504 with 1 Axes>"
            ]
          },
          "metadata": {
            "tags": [],
            "needs_background": "light"
          }
        }
      ]
    },
    {
      "cell_type": "markdown",
      "metadata": {
        "id": "gvcjO0ok9ugy"
      },
      "source": [
        "##程式 3.6"
      ]
    },
    {
      "cell_type": "code",
      "metadata": {
        "id": "QsHT8gw1980b",
        "outputId": "44ffa5e5-a9ea-42bf-a25e-eb2877e61100",
        "colab": {
          "base_uri": "https://localhost:8080/",
          "height": 51
        }
      },
      "source": [
        "max_games = 1000\n",
        "wins = 0\n",
        "for i in range(max_games):\n",
        "    win = test_model(model, mode='random', display=False)\n",
        "    if win:\n",
        "        wins += 1\n",
        "win_perc = float(wins) / float(max_games)\n",
        "print(\"Games played: {0}, # of wins: {1}\".format(max_games,wins))\n",
        "print(\"Win percentage: {}%\".format(100.0*win_perc)) #顯示勝率"
      ],
      "execution_count": 146,
      "outputs": [
        {
          "output_type": "stream",
          "text": [
            "Games played: 1000, # of wins: 921\n",
            "Win percentage: 92.10000000000001%\n"
          ],
          "name": "stdout"
        }
      ]
    },
    {
      "cell_type": "markdown",
      "metadata": {
        "id": "W6ad_66j-D_C"
      },
      "source": [
        "##程式 3.7"
      ]
    },
    {
      "cell_type": "code",
      "metadata": {
        "id": "HRC4eZcF-HNf"
      },
      "source": [
        "import copy\n",
        "\n",
        "L1 = 64\n",
        "L2 = 150\n",
        "L3 = 100\n",
        "L4 = 4\n",
        "\n",
        "model = torch.nn.Sequential(\n",
        "    torch.nn.Linear(L1, L2),\n",
        "    torch.nn.ReLU(),\n",
        "    torch.nn.Linear(L2, L3),\n",
        "    torch.nn.ReLU(),\n",
        "    torch.nn.Linear(L3,L4)\n",
        ")\n",
        "\n",
        "model2 = copy.deepcopy(model) #完整複製原始Q網路模型，產生目標網路模型\n",
        "model2.load_state_dict(model.state_dict()) #將原始Q網路中的參數複製給目標網路\n",
        "loss_fn = torch.nn.MSELoss()\n",
        "learning_rate = 1e-3\n",
        "optimizer = torch.optim.Adam(model.parameters(), lr=learning_rate)\n",
        "#sync_freq = 50\n",
        "gamma = 0.9\n",
        "epsilon = 1.0"
      ],
      "execution_count": 147,
      "outputs": []
    },
    {
      "cell_type": "markdown",
      "metadata": {
        "id": "Z8Ywra_v-SzE"
      },
      "source": [
        "## 程式 3.8"
      ]
    },
    {
      "cell_type": "code",
      "metadata": {
        "id": "AAPUfCgV-WL9",
        "outputId": "617891f3-1638-495e-cbae-fdf06ff4d519",
        "colab": {
          "base_uri": "https://localhost:8080/",
          "height": 459
        }
      },
      "source": [
        "from collections import deque\n",
        "epochs = 5000\n",
        "losses = []\n",
        "mem_size = 1000\n",
        "batch_size = 200\n",
        "replay = deque(maxlen=mem_size)\n",
        "max_moves = 50\n",
        "sync_freq = 500 #○1設定Q網路和目標網路的參數同步頻率\n",
        "j=0 #○2當前訓練次數\n",
        "for i in range(epochs):\n",
        "    game = Gridworld(size=4, mode='random')\n",
        "    state1_ = game.board.render_np().reshape(1,64) + np.random.rand(1,64)/100.0\n",
        "    state1 = torch.from_numpy(state1_).float()\n",
        "    status = 1\n",
        "    mov = 0\n",
        "    while(status == 1): \n",
        "        j+=1 #○3將訓練次數加1\n",
        "        mov += 1\n",
        "        qval = model(state1)\n",
        "        qval_ = qval.data.numpy()\n",
        "\n",
        "        if (random.random() < epsilon):\n",
        "            action_ = np.random.randint(0,4)\n",
        "        else:\n",
        "            action_ = np.argmax(qval_)\n",
        "\n",
        "        action = action_set[action_]\n",
        "        game.makeMove(action)\n",
        "        state2_ = game.board.render_np().reshape(1,64) + np.random.rand(1,64)/100.0\n",
        "        state2 = torch.from_numpy(state2_).float()\n",
        "        reward = game.reward()\n",
        "        done = True if reward != -1 else False\n",
        "        exp =  (state1, action_, reward, state2, done)\n",
        "        replay.append(exp) \n",
        "        state1 = state2        \n",
        "        if len(replay) > batch_size:\n",
        "            minibatch = random.sample(replay, batch_size)\n",
        "            state1_batch = torch.cat([s1 for (s1,a,r,s2,d) in minibatch])\n",
        "            action_batch = torch.Tensor([a for (s1,a,r,s2,d) in minibatch])\n",
        "            reward_batch = torch.Tensor([r for (s1,a,r,s2,d) in minibatch])\n",
        "            state2_batch = torch.cat([s2 for (s1,a,r,s2,d) in minibatch])\n",
        "            done_batch = torch.Tensor([d for (s1,a,r,s2,d) in minibatch])\n",
        "            Q1 = model(state1_batch) \n",
        "            with torch.no_grad(): #{2} ○4用目標網路模型計算Q值, 但不要優化模型的參數\n",
        "                Q2 = model2(state2_batch)\n",
        "            Y = reward_batch + gamma * ((1-done_batch) * torch.max(Q2,dim=1)[0])\n",
        "            X = Q1.gather(dim=1,index=action_batch.long().unsqueeze(dim=1)).squeeze()\n",
        "            loss = loss_fn(X, Y.detach())\n",
        "            if i%100 == 0:\n",
        "              print(i, loss.item())\n",
        "              clear_output(wait=True)\n",
        "            optimizer.zero_grad()\n",
        "            loss.backward()  \n",
        "            losses.append(loss.item())                                 \n",
        "            optimizer.step()            \n",
        "            if j % sync_freq == 0: #{2}○5每過50次迴圈，就將Q網路當前的參數複製一份給目標網路\n",
        "                model2.load_state_dict(model.state_dict())\n",
        "        if abs(reward) == 10 or mov > max_moves:\n",
        "            status = 0\n",
        "            mov = 0\n",
        "    if epsilon > 0.1:\n",
        "        epsilon -= (1/epochs) #讓ε的值隨著訓練的進行而慢慢下降，直到0.1（還是要保留探索的動作）              \n",
        "losses = np.array(losses)\n",
        "plt.figure(figsize=(10,7))\n",
        "plt.plot(losses)\n",
        "plt.xlabel(\"Steps\",fontsize=11)\n",
        "plt.ylabel(\"Loss\",fontsize=11)"
      ],
      "execution_count": 148,
      "outputs": [
        {
          "output_type": "execute_result",
          "data": {
            "text/plain": [
              "Text(0, 0.5, 'Loss')"
            ]
          },
          "metadata": {
            "tags": []
          },
          "execution_count": 148
        },
        {
          "output_type": "display_data",
          "data": {
            "image/png": "[encoded data removed]",
            "text/plain": [
              "<Figure size 720x504 with 1 Axes>"
            ]
          },
          "metadata": {
            "tags": [],
            "needs_background": "light"
          }
        }
      ]
    },
    {
      "cell_type": "markdown",
      "metadata": {
        "id": "m6xom6noAfAC"
      },
      "source": [
        "##測試勝率"
      ]
    },
    {
      "cell_type": "code",
      "metadata": {
        "id": "c6c44M3FAcuF",
        "outputId": "f938c3f3-261b-4b53-d9b6-892795c4dc55",
        "colab": {
          "base_uri": "https://localhost:8080/",
          "height": 51
        }
      },
      "source": [
        "max_games = 1000\n",
        "wins = 0\n",
        "for i in range(max_games):\n",
        "    win = test_model(model, mode='random', display=False)\n",
        "    if win:\n",
        "        wins += 1\n",
        "win_perc = float(wins) / float(max_games)\n",
        "print(\"Games played: {0}, # of wins: {1}\".format(max_games,wins))\n",
        "print(\"Win percentage: {}%\".format(100.0*win_perc)) #顯示勝率"
      ],
      "execution_count": 149,
      "outputs": [
        {
          "output_type": "stream",
          "text": [
            "Games played: 1000, # of wins: 938\n",
            "Win percentage: 93.8%\n"
          ],
          "name": "stdout"
        }
      ]
    },
    {
      "cell_type": "markdown",
      "metadata": {
        "id": "o0U5H3QXVegS"
      },
      "source": [
        "## 程式 3.5 改良版"
      ]
    },
    {
      "cell_type": "code",
      "metadata": {
        "id": "O25ZUhH2ViXz",
        "outputId": "38c0e39f-75fc-47e0-d54a-28f61734e2b6",
        "colab": {
          "base_uri": "https://localhost:8080/",
          "height": 233
        }
      },
      "source": [
        "# move_pos = [(-1,0),(1,0),(0,-1),(0,1)]   #●移動方向 u,d,l,r 的實際移動向量 \n",
        "# model = torch.nn.Sequential(\n",
        "#     torch.nn.Linear(L1, L2), #第一隱藏層\n",
        "#     torch.nn.ReLU(),\n",
        "#     torch.nn.Linear(L2, L3), #第二隱藏層\n",
        "#     torch.nn.ReLU(),\n",
        "#     torch.nn.Linear(L3,L4) #輸出層\n",
        "# )\n",
        "# loss_fn = torch.nn.MSELoss()\n",
        "# learning_rate = 1e-3  #超參數『α』\n",
        "# optimizer = torch.optim.Adam(model.parameters(), lr=learning_rate) #model.parameters()會傳回所有要優化的權重參數\n",
        "\n",
        "# gamma = 0.9\n",
        "# epsilon = 1.0\n",
        "\n",
        "# #————————————————\n",
        "\n",
        "# from collections import deque\n",
        "# epochs = 5000\n",
        "# losses = []\n",
        "# mem_size = 1000 #設定記憶串列的大小\n",
        "# batch_size = 200 #設定單一小批次（mini_batch）的大小\n",
        "# replay = deque(maxlen=mem_size) #產生一個deque串列來儲存經驗回放的資料\n",
        "# max_moves = 50 #設定每場遊戲最多可以走幾步\n",
        "# for i in range(epochs):\n",
        "#     game = Gridworld(size=4, mode='random')\n",
        "#     state1_ = game.board.render_np().reshape(1,64) + np.random.rand(1,64)/100.0\n",
        "#     state1 = torch.from_numpy(state1_).float()\n",
        "#     status = 1\n",
        "#     mov = 0 #移動的步數\n",
        "#     while(status == 1): \n",
        "#         mov += 1\n",
        "#         qval = model(state1) #輸出各動作的Q值\n",
        "#         qval_ = qval.data.numpy()\n",
        "#         if (random.random() < epsilon):\n",
        "#             action_ = np.random.randint(0,4)\n",
        "#         else:\n",
        "#             action_ = np.argmax(qval_)    \n",
        "#         hit_wall = game.validateMove('Player', move_pos[action_]) == 1 #●1.檢查並記錄是否撞牆\n",
        "#         action = action_set[action_]\n",
        "#         game.makeMove(action)\n",
        "#         state2_ = game.board.render_np().reshape(1,64) + np.random.rand(1,64)/100.0\n",
        "#         state2 = torch.from_numpy(state2_).float()\n",
        "#         reward = -5 if hit_wall else game.reward() #●2.若撞牆回饋-5\n",
        "#         done = True if reward != -1 else False #在reward不等於-1時設定done=True，代表遊戲已經結束了（分出勝負時，reward會等於10或-10）\n",
        "#         exp = (state1, action_, reward, state2, done) #產生一筆經驗，其中包含當前狀態、動作、新狀態、回饋值及done值\n",
        "#         replay.append(exp) #將該經驗加入名為replay的deque串列中\n",
        "#         state1 = state2 #產生的新狀態會變成下一次訓練時的輸入狀態          \n",
        "#         if len(replay) > batch_size: #當replay的長度大於小批次量（mini-batch size）時，啟動小批次訓練\n",
        "#             minibatch = random.sample(replay, batch_size) #隨機選擇replay中的資料來組成子集\n",
        "#             state1_batch = torch.cat([s1 for (s1,a,r,s2,d) in minibatch]) #{5}將經驗中的不同元素分別儲存到對應的小批次張量中\n",
        "#             action_batch = torch.Tensor([a for (s1,a,r,s2,d) in minibatch])\n",
        "#             reward_batch = torch.Tensor([r for (s1,a,r,s2,d) in minibatch])\n",
        "#             state2_batch = torch.cat([s2 for (s1,a,r,s2,d) in minibatch]) \n",
        "#             done_batch = torch.Tensor([d for (s1,a,r,s2,d) in minibatch])            \n",
        "#             Q1 = model(state1_batch) #利用小批次資料中的目前狀態來計算Q值\n",
        "#             with torch.no_grad():\n",
        "#               Q2 = model(state2_batch) #利用小批次資料中的新狀態來計算Q值，但設定為不需要計算梯度         \n",
        "#             Y = reward_batch + gamma * ((1 - done_batch) * torch.max(Q2,dim=1)[0]) #計算我們希望DQN學習的目標Q值\n",
        "#             X = Q1.gather(dim=1,index=action_batch.long().unsqueeze(dim=1)).squeeze() #gather()及unsqueeze()函式的用途可參見下面的小編補充框 \n",
        "#             loss = loss_fn(X, Y.detach())\n",
        "#             if i%100 == 0:\n",
        "#               print(i, loss.item())\n",
        "#               clear_output(wait=True)             \n",
        "#             optimizer.zero_grad()\n",
        "#             loss.backward()            \n",
        "#             losses.append(loss.item())\n",
        "#             optimizer.step()\n",
        "#         if abs(reward) == 10 or mov > max_moves:\n",
        "#             status = 0\n",
        "#             mov = 0 #若遊戲結束，則重設status和mov變數的值\n",
        "#     if epsilon > 0.1:\n",
        "#       epsilon -= (1/epochs) #讓ε的值隨著訓練的進行而慢慢下降，直到0.1（還是要保留探索的動作）\n",
        "# losses = np.array(losses)\n",
        "# plt.figure(figsize=(10,7))\n",
        "# plt.plot(losses)\n",
        "# plt.xlabel(\"Steps\",fontsize=11)\n",
        "# plt.ylabel(\"Loss\",fontsize=11)\n",
        "\n",
        "# #——————————————\n",
        "\n",
        "# max_games = 1000\n",
        "# wins = 0\n",
        "# for i in range(max_games):\n",
        "#     win = test_model(model, mode='random', display=False)\n",
        "#     if win:\n",
        "#         wins += 1\n",
        "# win_perc = float(wins) / float(max_games)\n",
        "# print(\"Games played: {0}, # of wins: {1}\".format(max_games,wins))\n",
        "# print(\"Win percentage: {}%\".format(100.0*win_perc)) #顯示勝率"
      ],
      "execution_count": 150,
      "outputs": [
        {
          "output_type": "error",
          "ename": "KeyboardInterrupt",
          "evalue": "ignored",
          "traceback": [
            "\u001b[0;31m---------------------------------------------------------------------------\u001b[0m",
            "\u001b[0;31mKeyboardInterrupt\u001b[0m                         Traceback (most recent call last)",
            "\u001b[0;32m<ipython-input-150-6caaab81a2bf>\u001b[0m in \u001b[0;36m<module>\u001b[0;34m()\u001b[0m\n\u001b[1;32m     49\u001b[0m         \u001b[0;32mif\u001b[0m \u001b[0mlen\u001b[0m\u001b[0;34m(\u001b[0m\u001b[0mreplay\u001b[0m\u001b[0;34m)\u001b[0m \u001b[0;34m>\u001b[0m \u001b[0mbatch_size\u001b[0m\u001b[0;34m:\u001b[0m \u001b[0;31m#當replay的長度大於小批次量（mini-batch size）時，啟動小批次訓練\u001b[0m\u001b[0;34m\u001b[0m\u001b[0;34m\u001b[0m\u001b[0m\n\u001b[1;32m     50\u001b[0m             \u001b[0mminibatch\u001b[0m \u001b[0;34m=\u001b[0m \u001b[0mrandom\u001b[0m\u001b[0;34m.\u001b[0m\u001b[0msample\u001b[0m\u001b[0;34m(\u001b[0m\u001b[0mreplay\u001b[0m\u001b[0;34m,\u001b[0m \u001b[0mbatch_size\u001b[0m\u001b[0;34m)\u001b[0m \u001b[0;31m#隨機選擇replay中的資料來組成子集\u001b[0m\u001b[0;34m\u001b[0m\u001b[0;34m\u001b[0m\u001b[0m\n\u001b[0;32m---> 51\u001b[0;31m             \u001b[0mstate1_batch\u001b[0m \u001b[0;34m=\u001b[0m \u001b[0mtorch\u001b[0m\u001b[0;34m.\u001b[0m\u001b[0mcat\u001b[0m\u001b[0;34m(\u001b[0m\u001b[0;34m[\u001b[0m\u001b[0ms1\u001b[0m \u001b[0;32mfor\u001b[0m \u001b[0;34m(\u001b[0m\u001b[0ms1\u001b[0m\u001b[0;34m,\u001b[0m\u001b[0ma\u001b[0m\u001b[0;34m,\u001b[0m\u001b[0mr\u001b[0m\u001b[0;34m,\u001b[0m\u001b[0ms2\u001b[0m\u001b[0;34m,\u001b[0m\u001b[0md\u001b[0m\u001b[0;34m)\u001b[0m \u001b[0;32min\u001b[0m \u001b[0mminibatch\u001b[0m\u001b[0;34m]\u001b[0m\u001b[0;34m)\u001b[0m \u001b[0;31m#{5}將經驗中的不同元素分別儲存到對應的小批次張量中\u001b[0m\u001b[0;34m\u001b[0m\u001b[0;34m\u001b[0m\u001b[0m\n\u001b[0m\u001b[1;32m     52\u001b[0m             \u001b[0maction_batch\u001b[0m \u001b[0;34m=\u001b[0m \u001b[0mtorch\u001b[0m\u001b[0;34m.\u001b[0m\u001b[0mTensor\u001b[0m\u001b[0;34m(\u001b[0m\u001b[0;34m[\u001b[0m\u001b[0ma\u001b[0m \u001b[0;32mfor\u001b[0m \u001b[0;34m(\u001b[0m\u001b[0ms1\u001b[0m\u001b[0;34m,\u001b[0m\u001b[0ma\u001b[0m\u001b[0;34m,\u001b[0m\u001b[0mr\u001b[0m\u001b[0;34m,\u001b[0m\u001b[0ms2\u001b[0m\u001b[0;34m,\u001b[0m\u001b[0md\u001b[0m\u001b[0;34m)\u001b[0m \u001b[0;32min\u001b[0m \u001b[0mminibatch\u001b[0m\u001b[0;34m]\u001b[0m\u001b[0;34m)\u001b[0m\u001b[0;34m\u001b[0m\u001b[0;34m\u001b[0m\u001b[0m\n\u001b[1;32m     53\u001b[0m             \u001b[0mreward_batch\u001b[0m \u001b[0;34m=\u001b[0m \u001b[0mtorch\u001b[0m\u001b[0;34m.\u001b[0m\u001b[0mTensor\u001b[0m\u001b[0;34m(\u001b[0m\u001b[0;34m[\u001b[0m\u001b[0mr\u001b[0m \u001b[0;32mfor\u001b[0m \u001b[0;34m(\u001b[0m\u001b[0ms1\u001b[0m\u001b[0;34m,\u001b[0m\u001b[0ma\u001b[0m\u001b[0;34m,\u001b[0m\u001b[0mr\u001b[0m\u001b[0;34m,\u001b[0m\u001b[0ms2\u001b[0m\u001b[0;34m,\u001b[0m\u001b[0md\u001b[0m\u001b[0;34m)\u001b[0m \u001b[0;32min\u001b[0m \u001b[0mminibatch\u001b[0m\u001b[0;34m]\u001b[0m\u001b[0;34m)\u001b[0m\u001b[0;34m\u001b[0m\u001b[0;34m\u001b[0m\u001b[0m\n",
            "\u001b[0;31mKeyboardInterrupt\u001b[0m: "
          ]
        }
      ]
    },
    {
      "cell_type": "code",
      "metadata": {
        "id": "PSOfujPbYg7M"
      },
      "source": [
        "# max_games = 1000\n",
        "# wins = 0\n",
        "# for i in range(max_games):\n",
        "#     win = test_model(model, mode='random', display=False, avoid_wall=False)\n",
        "#     if win:\n",
        "#         wins += 1\n",
        "# win_perc = float(wins) / float(max_games)\n",
        "# print(\"Games played: {0}, # of wins: {1}\".format(max_games,wins))\n",
        "# print(\"Win percentage: {}%\".format(100.0*win_perc)) #顯示勝率"
      ],
      "execution_count": null,
      "outputs": []
    },
    {
      "cell_type": "markdown",
      "metadata": {
        "id": "csSmYxLnbHAK"
      },
      "source": [
        "## 程式 3.8 改良版"
      ]
    },
    {
      "cell_type": "code",
      "metadata": {
        "id": "ryUrmm3cbGMm"
      },
      "source": [
        "# import copy\n",
        "\n",
        "# L1 = 64\n",
        "# L2 = 150\n",
        "# L3 = 100\n",
        "# L4 = 4\n",
        "\n",
        "# model = torch.nn.Sequential(\n",
        "#     torch.nn.Linear(L1, L2),\n",
        "#     torch.nn.ReLU(),\n",
        "#     torch.nn.Linear(L2, L3),\n",
        "#     torch.nn.ReLU(),\n",
        "#     torch.nn.Linear(L3,L4)\n",
        "# )\n",
        "\n",
        "# model2 = copy.deepcopy(model) #完整複製原始Q網路模型，產生目標網路模型\n",
        "# model2.load_state_dict(model.state_dict()) #將原始Q網路中的參數複製給目標網路\n",
        "# loss_fn = torch.nn.MSELoss()\n",
        "# learning_rate = 1e-3\n",
        "# optimizer = torch.optim.Adam(model.parameters(), lr=learning_rate)\n",
        "# #sync_freq = 50\n",
        "# gamma = 0.9\n",
        "# epsilon = 1.0\n",
        "\n",
        "\n",
        "# from collections import deque\n",
        "# epochs = 5000\n",
        "# losses = []\n",
        "# mem_size = 1500\n",
        "# batch_size = 200\n",
        "# replay = deque(maxlen=mem_size)\n",
        "# max_moves = 50\n",
        "# #h = 0\n",
        "# sync_freq = 20 #○1設定Q網路和目標網路的參數同步頻率\n",
        "# j=0 #○2當前訓練次數\n",
        "# for i in range(epochs):\n",
        "#     game = Gridworld(size=4, mode='random')\n",
        "#     state1_ = game.board.render_np().reshape(1,64) + np.random.rand(1,64)/100.0\n",
        "#     state1 = torch.from_numpy(state1_).float()\n",
        "#     status = 1\n",
        "#     mov = 0\n",
        "#     while(status == 1): \n",
        "#         j+=1 #○3將訓練次數加1\n",
        "#         mov += 1\n",
        "#         qval = model(state1) #輸出各動作的Q值\n",
        "#         qval_ = qval.data.numpy()\n",
        "#         if (random.random() < epsilon):\n",
        "#             action_ = np.random.randint(0,4)\n",
        "#         else:\n",
        "#             action_ = np.argmax(qval_)    \n",
        "#         hit_wall = game.validateMove('Player', move_pos[action_]) == 1 #●1.檢查並記錄是否撞牆\n",
        "#         action = action_set[action_]\n",
        "#         game.makeMove(action)\n",
        "#         state2_ = game.board.render_np().reshape(1,64) + np.random.rand(1,64)/100.0\n",
        "#         state2 = torch.from_numpy(state2_).float()\n",
        "#         # reward = game.reward()\n",
        "#         reward = -5 if hit_wall else game.reward() #●2.若撞牆回饋-5\n",
        "#         done = True if reward != -1 else False #在reward不等於-1時設定done=True，代表遊戲已經結束了（分出勝負時，reward會等於10或-10）\n",
        "#         exp = (state1, action_, reward, state2, done) #產生一筆經驗，其中包含當前狀態、動作、新狀態、回饋值及done值\n",
        "#         replay.append(exp) #將該經驗加入名為replay的deque串列中\n",
        "#         state1 = state2 #產生的新狀態會變成下一次訓練時的輸入狀態     \n",
        "        \n",
        "#         if len(replay) > batch_size:\n",
        "#             minibatch = random.sample(replay, batch_size)\n",
        "#             state1_batch = torch.cat([s1 for (s1,a,r,s2,d) in minibatch])\n",
        "#             action_batch = torch.Tensor([a for (s1,a,r,s2,d) in minibatch])\n",
        "#             reward_batch = torch.Tensor([r for (s1,a,r,s2,d) in minibatch])\n",
        "#             state2_batch = torch.cat([s2 for (s1,a,r,s2,d) in minibatch])\n",
        "#             done_batch = torch.Tensor([d for (s1,a,r,s2,d) in minibatch])\n",
        "#             Q1 = model(state1_batch) \n",
        "#             with torch.no_grad(): #{2} ○4用目標網路模型計算Q值, 但不要優化模型的參數\n",
        "#                 Q2 = model2(state2_batch)\n",
        "#             Y = reward_batch + gamma * ((1-done_batch) * torch.max(Q2,dim=1)[0])\n",
        "#             X = Q1.gather(dim=1,index=action_batch.long().unsqueeze(dim=1)).squeeze()\n",
        "#             loss = loss_fn(X, Y.detach())\n",
        "#             if i%100 == 0:\n",
        "#               print(i, loss.item())\n",
        "#               clear_output(wait=True)\n",
        "#             optimizer.zero_grad()\n",
        "#             loss.backward()\n",
        "#             losses.append(loss.item())\n",
        "#             optimizer.step()\n",
        "            \n",
        "#             if j % sync_freq == 0: #{2}○5每過50次迴圈，就將Q網路當前的參數複製一份給目標網路\n",
        "#                 model2.load_state_dict(model.state_dict())\n",
        "#         if abs(reward) == 10 or mov > max_moves:\n",
        "#             status = 0\n",
        "#             mov = 0\n",
        "#     if epsilon > 0.1:\n",
        "#         epsilon -= (1/epochs) #讓ε的值隨著訓練的進行而慢慢下降，直到0.1（還是要保留探索的動作）\n",
        "                \n",
        "# losses = np.array(losses)\n",
        "# plt.figure(figsize=(10,7))\n",
        "# plt.plot(losses)\n",
        "# plt.xlabel(\"Epochs\",fontsize=22)\n",
        "# plt.ylabel(\"Loss\",fontsize=22)\n",
        "\n",
        "# max_games = 1000\n",
        "# wins = 0\n",
        "# for i in range(max_games):\n",
        "#     win = test_model(model, mode='random', display=False,avoid_wall=False)\n",
        "#     if win:\n",
        "#         wins += 1\n",
        "# win_perc = float(wins) / float(max_games)\n",
        "# print(\"Games played: {0}, # of wins: {1}\".format(max_games,wins))\n",
        "# print(\"Win percentage: {}%\".format(100.0*win_perc)) #顯示勝率\n"
      ],
      "execution_count": null,
      "outputs": []
    },
    {
      "cell_type": "code",
      "metadata": {
        "id": "jp7hQlp7bT1u"
      },
      "source": [
        "# max_games = 1000\n",
        "# wins = 0\n",
        "# for i in range(max_games):\n",
        "#     win = test_model(model, mode='random', display=False, avoid_wall=False)\n",
        "#     if win:\n",
        "#         wins += 1\n",
        "# win_perc = float(wins) / float(max_games)\n",
        "# print(\"Games played: {0}, # of wins: {1}\".format(max_games,wins))\n",
        "# print(\"Win percentage: {}%\".format(100.0*win_perc)) #顯示勝率"
      ],
      "execution_count": null,
      "outputs": []
    }
  ]
}